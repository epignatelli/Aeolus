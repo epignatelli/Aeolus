{
 "cells": [
  {
   "cell_type": "code",
   "execution_count": 51,
   "metadata": {
    "collapsed": true
   },
   "outputs": [],
   "source": [
    "import numpy as np\n",
    "from geometric_operations import *"
   ]
  },
  {
   "cell_type": "code",
   "execution_count": 52,
   "metadata": {
    "collapsed": true
   },
   "outputs": [],
   "source": [
    "n = [1,2]\n",
    "Compute = True\n",
    "r = 1"
   ]
  },
  {
   "cell_type": "code",
   "execution_count": 73,
   "metadata": {},
   "outputs": [],
   "source": [
    "def mirror_point(pl_pts, src_pt):\n",
    "    pl_pts = np.array(pl_pts, dtype=np.float32)\n",
    "    src_pt = np.array(src_pt, dtype=np.float32)\n",
    "\n",
    "\n",
    "    p_co = pl_pts[0]\n",
    "\n",
    "    s_pl_pts = np.roll(pl_pts,-1,0) #shift array\n",
    "    edges_vec = s_pl_pts - pl_pts\n",
    "\n",
    "    p_no = np.cross(edges_vec[0],edges_vec[1])\n",
    "\n",
    "    unit_p_no = p_no/np.linalg.norm(p_no)\n",
    "    dist = np.dot((src_pt - p_co),unit_p_no) # distance from the plane to point P in the direction of the normal N.\n",
    "    m_src_pt = src_pt - (2*dist*unit_p_no) #translate P by 2 times that distance D in the direction opposite of normal N.\n",
    "    return m_src_pt.tolist()\n",
    "\n",
    "\n",
    "def mirror_point_vec(points, surfaces):\n",
    "    points = np.array(points, dtype=np.float32)\n",
    "    surfaces = np.array(surfaces, dtype=np.float32)\n",
    "    \n",
    "    print(surfaces.shape)\n",
    "    print(points.shape)\n",
    "    \n",
    "    dirs = np.cross(surfaces[:, 2, :] - surface[:, 1, :], surface[:, 0, :] - surface[:, 1, :])\n",
    "    normals = dirs / np.linalg.norm(dirs, axis=(0,1))\n",
    "\n",
    "    dist = np.dot((points[:,] - p_co), normals) # distance from the plane to point P in the direction of the normal N.\n",
    "    m_src_pt = src_pt - (2*dist*unit_p_no) #translate P by 2 times that distance D in the direction opposite of normal N.\n",
    "    \n",
    "    return m_src_pt\n",
    "    \n",
    "\n",
    "def mirror_sources(sources, surfaces, order):\n",
    "    output = []\n",
    "    output.append(sources)\n",
    "\n",
    "    i = 0\n",
    "    while i < order:\n",
    "        output.append(mirror_point_vec(output[i], surfaces))\n",
    "        i += 1\n",
    "        \n",
    "    return output\n",
    "\n",
    "\n",
    "def RecursiveMirror(SrcPtsGraft,gens):\n",
    "  \n",
    "    Macro = []\n",
    "    for i in range (len(SrcPts)):\n",
    "        List = []\n",
    "        for j in range (len(SrcPtsGraft[0])):\n",
    "            for k in range(len(ReflectSrf)):\n",
    "                List.append(mirror_point(ReflectSrf[k],SrcPtsGraft[i][j]))\n",
    "        Macro.append(List)\n",
    "        \n",
    "    if gens != 0:\n",
    "        ObjList.append(Macro)\n",
    "    if gens > 0:\n",
    "        RecursiveMirror(Macro,gens-1)\n",
    "        \n",
    "    return(ObjList)"
   ]
  },
  {
   "cell_type": "code",
   "execution_count": 74,
   "metadata": {
    "collapsed": true
   },
   "outputs": [],
   "source": [
    "ReflectSrf,SrcPts,TgtPts = import_geo()"
   ]
  },
  {
   "cell_type": "code",
   "execution_count": 80,
   "metadata": {},
   "outputs": [
    {
     "name": "stdout",
     "output_type": "stream",
     "text": [
      "(2, 3)\n",
      "(20, 3, 3)\n",
      "[[[-5.25722501449, -8.50656129978, 0.0], [5.25722501449, -8.50656129978, 0.0], [0.0, -5.25722501449, 8.50656129978]], [[0.0, -5.25722501449, 8.50656129978], [5.25722501449, -8.50656129978, 0.0], [8.50656129978, 0.0, 5.25722501449]], [[0.0, -5.25722501449, 8.50656129978], [8.50656129978, 0.0, 5.25722501449], [0.0, 5.25722501449, 8.50656129978]], [[0.0, 5.25722501449, 8.50656129978], [8.50656129978, 0.0, 5.25722501449], [5.25722501449, 8.50656129978, 0.0]], [[0.0, 5.25722501449, 8.50656129978], [5.25722501449, 8.50656129978, 0.0], [-5.25722501449, 8.50656129978, 0.0]], [[0.0, 5.25722501449, 8.50656129978], [-5.25722501449, 8.50656129978, 0.0], [-8.50656129978, 0.0, 5.25722501449]], [[0.0, -5.25722501449, 8.50656129978], [0.0, 5.25722501449, 8.50656129978], [-8.50656129978, 0.0, 5.25722501449]], [[0.0, -5.25722501449, 8.50656129978], [-8.50656129978, 0.0, 5.25722501449], [-5.25722501449, -8.50656129978, 0.0]], [[5.25722501449, -8.50656129978, 0.0], [-5.25722501449, -8.50656129978, 0.0], [0.0, -5.25722501449, -8.50656129978]], [[5.25722501449, -8.50656129978, 0.0], [0.0, -5.25722501449, -8.50656129978], [8.50656129978, 0.0, -5.25722501449]], [[8.50656129978, 0.0, -5.25722501449], [0.0, -5.25722501449, -8.50656129978], [0.0, 5.25722501449, -8.50656129978]], [[8.50656129978, 0.0, -5.25722501449], [0.0, 5.25722501449, -8.50656129978], [5.25722501449, 8.50656129978, 0.0]], [[-5.25722501449, 8.50656129978, 0.0], [5.25722501449, 8.50656129978, 0.0], [0.0, 5.25722501449, -8.50656129978]], [[-5.25722501449, 8.50656129978, 0.0], [0.0, 5.25722501449, -8.50656129978], [-8.50656129978, 0.0, -5.25722501449]], [[0.0, 5.25722501449, -8.50656129978], [0.0, -5.25722501449, -8.50656129978], [-8.50656129978, 0.0, -5.25722501449]], [[0.0, -5.25722501449, -8.50656129978], [-5.25722501449, -8.50656129978, 0.0], [-8.50656129978, 0.0, -5.25722501449]], [[8.50656129978, 0.0, 5.25722501449], [5.25722501449, -8.50656129978, 0.0], [8.50656129978, 0.0, -5.25722501449]], [[5.25722501449, 8.50656129978, 0.0], [8.50656129978, 0.0, 5.25722501449], [8.50656129978, 0.0, -5.25722501449]], [[-8.50656129978, 0.0, 5.25722501449], [-5.25722501449, 8.50656129978, 0.0], [-8.50656129978, 0.0, -5.25722501449]], [[-5.25722501449, -8.50656129978, 0.0], [-8.50656129978, 0.0, 5.25722501449], [-8.50656129978, 0.0, -5.25722501449]]]\n"
     ]
    }
   ],
   "source": [
    "print(np.array(SrcPts).shape)\n",
    "print(np.array(ReflectSrf).shape)\n",
    "print(ReflectSrf)"
   ]
  },
  {
   "cell_type": "code",
   "execution_count": 75,
   "metadata": {},
   "outputs": [
    {
     "name": "stdout",
     "output_type": "stream",
     "text": [
      "(20, 3, 3)\n",
      "(2, 3)\n"
     ]
    },
    {
     "ename": "NameError",
     "evalue": "name 'pl_pts' is not defined",
     "output_type": "error",
     "traceback": [
      "\u001b[1;31m---------------------------------------------------------------------------\u001b[0m",
      "\u001b[1;31mNameError\u001b[0m                                 Traceback (most recent call last)",
      "\u001b[1;32m<ipython-input-75-0ba60860eb36>\u001b[0m in \u001b[0;36m<module>\u001b[1;34m()\u001b[0m\n\u001b[1;32m----> 1\u001b[1;33m \u001b[0mmirror_point_vec\u001b[0m\u001b[1;33m(\u001b[0m\u001b[0mSrcPts\u001b[0m\u001b[1;33m,\u001b[0m \u001b[0mReflectSrf\u001b[0m\u001b[1;33m)\u001b[0m\u001b[1;33m\u001b[0m\u001b[0m\n\u001b[0m",
      "\u001b[1;32m<ipython-input-73-e20634791f22>\u001b[0m in \u001b[0;36mmirror_point_vec\u001b[1;34m(points, surfaces)\u001b[0m\n\u001b[0;32m     26\u001b[0m \u001b[1;31m#     normals = np.cross(surfaces[:, 2] - surface\u001b[0m\u001b[1;33m\u001b[0m\u001b[1;33m\u001b[0m\u001b[0m\n\u001b[0;32m     27\u001b[0m \u001b[1;33m\u001b[0m\u001b[0m\n\u001b[1;32m---> 28\u001b[1;33m     \u001b[0mp_co\u001b[0m \u001b[1;33m=\u001b[0m \u001b[0mpl_pts\u001b[0m\u001b[1;33m[\u001b[0m\u001b[1;36m0\u001b[0m\u001b[1;33m]\u001b[0m\u001b[1;33m\u001b[0m\u001b[0m\n\u001b[0m\u001b[0;32m     29\u001b[0m \u001b[1;33m\u001b[0m\u001b[0m\n\u001b[0;32m     30\u001b[0m     \u001b[0medges_vec\u001b[0m \u001b[1;33m=\u001b[0m \u001b[0ms_pl_pts\u001b[0m \u001b[1;33m-\u001b[0m \u001b[0mnp\u001b[0m\u001b[1;33m.\u001b[0m\u001b[0mroll\u001b[0m\u001b[1;33m(\u001b[0m\u001b[0mpl_pts\u001b[0m\u001b[1;33m,\u001b[0m \u001b[1;33m-\u001b[0m\u001b[1;36m1\u001b[0m\u001b[1;33m,\u001b[0m \u001b[1;36m0\u001b[0m\u001b[1;33m)\u001b[0m\u001b[1;33m\u001b[0m\u001b[0m\n",
      "\u001b[1;31mNameError\u001b[0m: name 'pl_pts' is not defined"
     ]
    }
   ],
   "source": [
    "mirror_point_vec(SrcPts, ReflectSrf)"
   ]
  },
  {
   "cell_type": "code",
   "execution_count": 71,
   "metadata": {},
   "outputs": [
    {
     "ename": "NameError",
     "evalue": "name 'pl_pts' is not defined",
     "output_type": "error",
     "traceback": [
      "\u001b[1;31m---------------------------------------------------------------------------\u001b[0m",
      "\u001b[1;31mNameError\u001b[0m                                 Traceback (most recent call last)",
      "\u001b[1;32m<ipython-input-71-403ac94a8291>\u001b[0m in \u001b[0;36m<module>\u001b[1;34m()\u001b[0m\n\u001b[1;32m----> 1\u001b[1;33m \u001b[0mmirror_sources\u001b[0m\u001b[1;33m(\u001b[0m\u001b[0mSrcPts\u001b[0m\u001b[1;33m,\u001b[0m \u001b[0mReflectSrf\u001b[0m\u001b[1;33m,\u001b[0m \u001b[1;36m2\u001b[0m\u001b[1;33m)\u001b[0m\u001b[1;33m\u001b[0m\u001b[0m\n\u001b[0m",
      "\u001b[1;32m<ipython-input-68-9b194568f214>\u001b[0m in \u001b[0;36mmirror_sources\u001b[1;34m(sources, surfaces, order)\u001b[0m\n\u001b[0;32m     44\u001b[0m     \u001b[0mi\u001b[0m \u001b[1;33m=\u001b[0m \u001b[1;36m0\u001b[0m\u001b[1;33m\u001b[0m\u001b[0m\n\u001b[0;32m     45\u001b[0m     \u001b[1;32mwhile\u001b[0m \u001b[0mi\u001b[0m \u001b[1;33m<\u001b[0m \u001b[0morder\u001b[0m\u001b[1;33m:\u001b[0m\u001b[1;33m\u001b[0m\u001b[0m\n\u001b[1;32m---> 46\u001b[1;33m         \u001b[0moutput\u001b[0m\u001b[1;33m.\u001b[0m\u001b[0mappend\u001b[0m\u001b[1;33m(\u001b[0m\u001b[0mmirror_point_vec\u001b[0m\u001b[1;33m(\u001b[0m\u001b[0moutput\u001b[0m\u001b[1;33m[\u001b[0m\u001b[0mi\u001b[0m\u001b[1;33m]\u001b[0m\u001b[1;33m,\u001b[0m \u001b[0msurfaces\u001b[0m\u001b[1;33m)\u001b[0m\u001b[1;33m)\u001b[0m\u001b[1;33m\u001b[0m\u001b[0m\n\u001b[0m\u001b[0;32m     47\u001b[0m         \u001b[0mi\u001b[0m \u001b[1;33m+=\u001b[0m \u001b[1;36m1\u001b[0m\u001b[1;33m\u001b[0m\u001b[0m\n\u001b[0;32m     48\u001b[0m \u001b[1;33m\u001b[0m\u001b[0m\n",
      "\u001b[1;32m<ipython-input-68-9b194568f214>\u001b[0m in \u001b[0;36mmirror_point_vec\u001b[1;34m(points, surfaces)\u001b[0m\n\u001b[0;32m     18\u001b[0m \u001b[1;33m\u001b[0m\u001b[0m\n\u001b[0;32m     19\u001b[0m \u001b[1;32mdef\u001b[0m \u001b[0mmirror_point_vec\u001b[0m\u001b[1;33m(\u001b[0m\u001b[0mpoints\u001b[0m\u001b[1;33m,\u001b[0m \u001b[0msurfaces\u001b[0m\u001b[1;33m)\u001b[0m\u001b[1;33m:\u001b[0m\u001b[1;33m\u001b[0m\u001b[0m\n\u001b[1;32m---> 20\u001b[1;33m     \u001b[0mpoints\u001b[0m \u001b[1;33m=\u001b[0m \u001b[0mnp\u001b[0m\u001b[1;33m.\u001b[0m\u001b[0marray\u001b[0m\u001b[1;33m(\u001b[0m\u001b[0mpl_pts\u001b[0m\u001b[1;33m,\u001b[0m \u001b[0mdtype\u001b[0m\u001b[1;33m=\u001b[0m\u001b[0mnp\u001b[0m\u001b[1;33m.\u001b[0m\u001b[0mfloat32\u001b[0m\u001b[1;33m)\u001b[0m\u001b[1;33m\u001b[0m\u001b[0m\n\u001b[0m\u001b[0;32m     21\u001b[0m     \u001b[0msurfaces\u001b[0m \u001b[1;33m=\u001b[0m \u001b[0mnp\u001b[0m\u001b[1;33m.\u001b[0m\u001b[0marray\u001b[0m\u001b[1;33m(\u001b[0m\u001b[0msrc_pt\u001b[0m\u001b[1;33m,\u001b[0m \u001b[0mdtype\u001b[0m\u001b[1;33m=\u001b[0m\u001b[0mnp\u001b[0m\u001b[1;33m.\u001b[0m\u001b[0mfloat32\u001b[0m\u001b[1;33m)\u001b[0m\u001b[1;33m\u001b[0m\u001b[0m\n\u001b[0;32m     22\u001b[0m \u001b[1;33m\u001b[0m\u001b[0m\n",
      "\u001b[1;31mNameError\u001b[0m: name 'pl_pts' is not defined"
     ]
    }
   ],
   "source": [
    "mirror_sources(SrcPts, ReflectSrf, 2)"
   ]
  },
  {
   "cell_type": "code",
   "execution_count": null,
   "metadata": {
    "collapsed": true
   },
   "outputs": [],
   "source": []
  },
  {
   "cell_type": "code",
   "execution_count": null,
   "metadata": {
    "collapsed": true
   },
   "outputs": [],
   "source": []
  }
 ],
 "metadata": {
  "kernelspec": {
   "display_name": "Python 3",
   "language": "python",
   "name": "python3"
  },
  "language_info": {
   "codemirror_mode": {
    "name": "ipython",
    "version": 3
   },
   "file_extension": ".py",
   "mimetype": "text/x-python",
   "name": "python",
   "nbconvert_exporter": "python",
   "pygments_lexer": "ipython3",
   "version": "3.6.3"
  }
 },
 "nbformat": 4,
 "nbformat_minor": 2
}
